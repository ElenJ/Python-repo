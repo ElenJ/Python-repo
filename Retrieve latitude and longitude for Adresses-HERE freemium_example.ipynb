{
 "cells": [
  {
   "cell_type": "markdown",
   "metadata": {},
   "source": [
    "# Retrieve adresses from HERE freemium API"
   ]
  },
  {
   "cell_type": "markdown",
   "metadata": {},
   "source": [
    "This script retrieves adresses from HERE freemium API (https://engage.here.com/freemium). The API offers up to 250.000 transactions per month, without daily restrictions (as of August 2018), which makes it much more convenient than Gxxgle.\n",
    "You need to register and get your APP-ID and APP-CODE by retrieving one for JavaScript/REST project. Then simply insert the credentials into geocode_url and off you go!"
   ]
  },
  {
   "cell_type": "code",
   "execution_count": null,
   "metadata": {},
   "outputs": [],
   "source": [
    "import pandas as pd\n",
    "import time\n",
    "import requests\n",
    "import datetime\n",
    "import logging\n",
    "logger = logging.getLogger(\"root\")\n",
    "logger.setLevel(logging.DEBUG)\n",
    "# create console handler\n",
    "ch = logging.StreamHandler()\n",
    "ch.setLevel(logging.DEBUG)\n",
    "logger.addHandler(ch)"
   ]
  },
  {
   "cell_type": "markdown",
   "metadata": {},
   "source": [
    "This is an example dataframe: "
   ]
  },
  {
   "cell_type": "code",
   "execution_count": null,
   "metadata": {},
   "outputs": [],
   "source": [
    "mydata = pd.DataFrame({'City': [\"Berlin\", \"Paris\"], 'Street': [\"Pariser Platz\", \"Square de Berlin\"], 'Number': [1, 1], 'Country': [\"Germany\", \"France\"]})"
   ]
  },
  {
   "cell_type": "markdown",
   "metadata": {},
   "source": [
    "You probably have your adresses in a sheet:"
   ]
  },
  {
   "cell_type": "code",
   "execution_count": null,
   "metadata": {},
   "outputs": [],
   "source": [
    "mydata = pd.read_csv(\n",
    "        \"C:/Users/XXX/Data/Adresses.csv\", \n",
    "        sep=\";\", engine='python',dtype={'Number': object})\n",
    "mydata['Adress'] = mydata[\"Street\"]+ \" \" + mydata[\"Number\"].map(str)+\", \"+ mydata[\"City\"].map(str)+\", COUNTRY\""
   ]
  },
  {
   "cell_type": "code",
   "execution_count": null,
   "metadata": {},
   "outputs": [],
   "source": [
    "mydata.head()"
   ]
  },
  {
   "cell_type": "code",
   "execution_count": null,
   "metadata": {},
   "outputs": [],
   "source": [
    "#mydata['Adress'] = mydata[\"Street\"]+ \" \" + mydata[\"Number\"].map(str)+\", \"+ mydata[\"City\"].map(str)+\", \"+ mydata[\"Country\"].map(str)"
   ]
  },
  {
   "cell_type": "code",
   "execution_count": null,
   "metadata": {},
   "outputs": [],
   "source": [
    "#remove duplicates to reduce adress list\n",
    "myadresslist = mydata[\"Adress\"]\n",
    "myadresslist.shape\n",
    "myadresslist_wodoubles = list(set(myadresslist))\n",
    "len(myadresslist_wodoubles)"
   ]
  },
  {
   "cell_type": "markdown",
   "metadata": {},
   "source": [
    "You need to replace  YOURAPPID  and YOURCODE with your credentials:"
   ]
  },
  {
   "cell_type": "code",
   "execution_count": null,
   "metadata": {},
   "outputs": [],
   "source": [
    "# Specify the column name in your input data that contains addresses here\n",
    "address_column_name = \"Adress\"\n",
    "\n",
    "def get_google_results(address):\n",
    "\n",
    "    # Set up your Geocoding url\n",
    "    geocode_url = \"https://geocoder.api.here.com/6.2/geocode.json?app_id=YOURAPPID&app_code=YOURCODE-ww&searchtext={}\".format(address)\n",
    "    results = requests.get(geocode_url)\n",
    "    # Results will be in JSON format - convert to dict using requests functionality\n",
    "    results = results.json()\n",
    "    \n",
    "    # if there's no results or an error, return empty results.\n",
    "    if len(results['Response']) == 0:\n",
    "        output = {\n",
    "            \"latitude\": None,\n",
    "            \"longitude\": None,\n",
    "        }\n",
    "    else:    \n",
    "        answer = results['Response']['View'][0]['Result'][0]['Location'][\"DisplayPosition\"]\n",
    "        answer\n",
    "        output = {\n",
    "        \"latitude\": answer.get(\"Latitude\"),\n",
    "        \"longitude\": answer.get(\"Longitude\"),\n",
    "        }\n",
    "        output['input_string'] = address    \n",
    "    return output"
   ]
  },
  {
   "cell_type": "code",
   "execution_count": null,
   "metadata": {},
   "outputs": [],
   "source": [
    "myadresslist_wodoubles = myadresslist_wodoubles[0:15]\n",
    "# Create a list to hold results\n",
    "results = []\n",
    "BACKOFF_TIME = 2\n",
    "start = datetime.datetime.now()\n",
    "print(start)\n",
    "# Go through each address in turn\n",
    "for address in myadresslist_wodoubles:\n",
    "    print(address)\n",
    "    print(myadresslist_wodoubles.index(address))\n",
    "    print(start) #so you remember when you started\n",
    "   \n",
    "    try:\n",
    "        geocode_result = get_google_results(address)\n",
    "        print(geocode_result)\n",
    "        results.append(geocode_result)\n",
    "    except:\n",
    "        print(\"List does not contain value\")\n",
    "    # Give the API a rest each 50 adresses --> be nice :-)\n",
    "    if len(results) % 50 == 0:\n",
    "        time.sleep(BACKOFF_TIME * 60) # sleep for 2 minutes\n",
    "\n",
    "# All done\n",
    "logger.info(\"Finished geocoding all addresses\")\n",
    "end = datetime.datetime.now()\n",
    "duration = end-start\n",
    "print(duration) #just out of interest, how long it took\n",
    "# Write the full results to csv using the pandas library.\n",
    "pd.DataFrame(results).to_csv('myadresslist.csv',  sep=\";\", index=False, encoding='utf-16')"
   ]
  }
 ],
 "metadata": {
  "kernelspec": {
   "display_name": "Python 3",
   "language": "python",
   "name": "python3"
  },
  "language_info": {
   "codemirror_mode": {
    "name": "ipython",
    "version": 3
   },
   "file_extension": ".py",
   "mimetype": "text/x-python",
   "name": "python",
   "nbconvert_exporter": "python",
   "pygments_lexer": "ipython3",
   "version": "3.6.4"
  }
 },
 "nbformat": 4,
 "nbformat_minor": 2
}
